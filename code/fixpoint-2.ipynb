{
 "cells": [
  {
   "cell_type": "markdown",
   "metadata": {
    "colab_type": "text",
    "id": "Cygv_wPHYa5R"
   },
   "source": [
    "# Learning Fixpoints\n",
    "\n",
    "We want to learn a function $f$ such that $f(x) = x$ for an initial $x$."
   ]
  },
  {
   "cell_type": "markdown",
   "metadata": {
    "colab_type": "text",
    "id": "DTY3MwI4TrMG"
   },
   "source": [
    "## Related Work\n",
    "\n",
    "- Random NNs: https://arxiv.org/pdf/1710.06570.pdf\n",
    "- Attractors: https://en.wikipedia.org/wiki/Attractor"
   ]
  },
  {
   "cell_type": "code",
   "execution_count": 1,
   "metadata": {
    "colab": {
     "autoexec": {
      "startup": false,
      "wait_interval": 0
     },
     "base_uri": "https://localhost:8080/",
     "height": 103,
     "output_extras": [
      {
       "item_id": 1
      }
     ]
    },
    "colab_type": "code",
    "executionInfo": {
     "elapsed": 3128,
     "status": "ok",
     "timestamp": 1522832183139,
     "user": {
      "displayName": "Lenz Belzner",
      "photoUrl": "https://lh3.googleusercontent.com/a/default-user=s128",
      "userId": "102800868167498000139"
     },
     "user_tz": -120
    },
    "id": "dXGZLAQARYjV",
    "outputId": "e96a4de3-9eae-4f6b-ab96-eeaae849846c"
   },
   "outputs": [
    {
     "name": "stdout",
     "output_type": "stream",
     "text": [
      "Requirement already satisfied: keras in c:\\miniconda\\envs\\keras\\lib\\site-packages (2.2.4)\n",
      "Requirement already satisfied: numpy>=1.9.1 in c:\\miniconda\\envs\\keras\\lib\\site-packages (from keras) (1.15.4)\n",
      "Requirement already satisfied: scipy>=0.14 in c:\\miniconda\\envs\\keras\\lib\\site-packages (from keras) (1.1.0)\n",
      "Requirement already satisfied: six>=1.9.0 in c:\\miniconda\\envs\\keras\\lib\\site-packages (from keras) (1.11.0)\n",
      "Requirement already satisfied: pyyaml in c:\\miniconda\\envs\\keras\\lib\\site-packages (from keras) (3.13)\n",
      "Requirement already satisfied: h5py in c:\\miniconda\\envs\\keras\\lib\\site-packages (from keras) (2.8.0)\n",
      "Requirement already satisfied: keras_applications>=1.0.6 in c:\\miniconda\\envs\\keras\\lib\\site-packages (from keras) (1.0.6)\n",
      "Requirement already satisfied: keras_preprocessing>=1.0.5 in c:\\miniconda\\envs\\keras\\lib\\site-packages (from keras) (1.0.5)\n"
     ]
    }
   ],
   "source": [
    "!pip install keras"
   ]
  },
  {
   "cell_type": "code",
   "execution_count": 2,
   "metadata": {
    "colab": {
     "autoexec": {
      "startup": false,
      "wait_interval": 0
     },
     "base_uri": "https://localhost:8080/",
     "height": 34,
     "output_extras": [
      {
       "item_id": 1
      }
     ]
    },
    "colab_type": "code",
    "executionInfo": {
     "elapsed": 7843,
     "status": "ok",
     "timestamp": 1522832191020,
     "user": {
      "displayName": "Lenz Belzner",
      "photoUrl": "https://lh3.googleusercontent.com/a/default-user=s128",
      "userId": "102800868167498000139"
     },
     "user_tz": -120
    },
    "id": "0yvVUGjTSYW3",
    "outputId": "b087262b-51af-4e63-fe91-a45bce9e54e8"
   },
   "outputs": [
    {
     "name": "stderr",
     "output_type": "stream",
     "text": [
      "Using TensorFlow backend.\n"
     ]
    }
   ],
   "source": [
    "import numpy as np\n",
    "import matplotlib.pylab as plt\n",
    "from keras.models import Model\n",
    "from keras.layers import Input, Dense"
   ]
  },
  {
   "cell_type": "code",
   "execution_count": 3,
   "metadata": {
    "colab": {
     "autoexec": {
      "startup": false,
      "wait_interval": 0
     }
    },
    "colab_type": "code",
    "id": "JUVIsqO9TjOX"
   },
   "outputs": [],
   "source": [
    "DIM = 2"
   ]
  },
  {
   "cell_type": "markdown",
   "metadata": {
    "colab_type": "text",
    "id": "RunnmxYmhhnm"
   },
   "source": [
    "Setup the model."
   ]
  },
  {
   "cell_type": "code",
   "execution_count": 4,
   "metadata": {
    "colab": {
     "autoexec": {
      "startup": false,
      "wait_interval": 0
     }
    },
    "colab_type": "code",
    "id": "06pEyryrSdHG"
   },
   "outputs": [],
   "source": [
    "def make_model():\n",
    "  a = Input(shape=(DIM,))\n",
    "  b = Dense(DIM)(a)\n",
    "  model = Model(inputs=a, outputs=b)\n",
    "  model.compile('sgd', 'mse')\n",
    "  return model"
   ]
  },
  {
   "cell_type": "code",
   "execution_count": 5,
   "metadata": {
    "colab": {
     "autoexec": {
      "startup": false,
      "wait_interval": 0
     }
    },
    "colab_type": "code",
    "id": "MOhqMK8iUCAj"
   },
   "outputs": [],
   "source": [
    "model = make_model()"
   ]
  },
  {
   "cell_type": "markdown",
   "metadata": {
    "colab_type": "text",
    "id": "edL4F3vXhj5L"
   },
   "source": [
    "We use a random initial point $x$, and train the network by minimizing $(f(x) - x)^2$."
   ]
  },
  {
   "cell_type": "code",
   "execution_count": 6,
   "metadata": {
    "colab": {
     "autoexec": {
      "startup": false,
      "wait_interval": 0
     }
    },
    "colab_type": "code",
    "id": "arfIdBXbTZw_"
   },
   "outputs": [],
   "source": [
    "x = []\n",
    "x.append(np.random.uniform(size=(1, DIM)))\n",
    "for _ in range(100):\n",
    "  new_x = model.predict(x[-1])\n",
    "  x.append(new_x)\n",
    "  model.fit(x[-1], new_x, verbose=0)"
   ]
  },
  {
   "cell_type": "markdown",
   "metadata": {
    "colab_type": "text",
    "id": "FJrlXoLMh52E"
   },
   "source": [
    "This is the resulting trajectory of $x$, plotted by dimension."
   ]
  },
  {
   "cell_type": "code",
   "execution_count": 7,
   "metadata": {
    "colab": {
     "autoexec": {
      "startup": false,
      "wait_interval": 0
     },
     "base_uri": "https://localhost:8080/",
     "height": 366,
     "output_extras": [
      {
       "item_id": 1
      },
      {
       "item_id": 2
      }
     ]
    },
    "colab_type": "code",
    "executionInfo": {
     "elapsed": 641,
     "status": "ok",
     "timestamp": 1522832197171,
     "user": {
      "displayName": "Lenz Belzner",
      "photoUrl": "https://lh3.googleusercontent.com/a/default-user=s128",
      "userId": "102800868167498000139"
     },
     "user_tz": -120
    },
    "id": "AnoQzZmNUfLf",
    "outputId": "4d68c369-a25e-468d-e673-ca3ba623a60a"
   },
   "outputs": [
    {
     "data": {
      "text/plain": [
       "[<matplotlib.lines.Line2D at 0x2439cf7b898>]"
      ]
     },
     "execution_count": 7,
     "metadata": {},
     "output_type": "execute_result"
    },
    {
     "data": {
      "image/png": "[encoded data removed]",
      "text/plain": [
       "<Figure size 432x288 with 1 Axes>"
      ]
     },
     "metadata": {
      "needs_background": "light"
     },
     "output_type": "display_data"
    }
   ],
   "source": [
    "plt.plot([e[0][0] for e in x])\n",
    "plt.plot([e[0][1] for e in x])"
   ]
  },
  {
   "cell_type": "markdown",
   "metadata": {
    "colab_type": "text",
    "id": "4MElxuYKh-wz"
   },
   "source": [
    "Same data, in 2D."
   ]
  },
  {
   "cell_type": "code",
   "execution_count": 8,
   "metadata": {
    "colab": {
     "autoexec": {
      "startup": false,
      "wait_interval": 0
     },
     "base_uri": "https://localhost:8080/",
     "height": 364,
     "output_extras": [
      {
       "item_id": 1
      },
      {
       "item_id": 2
      }
     ]
    },
    "colab_type": "code",
    "executionInfo": {
     "elapsed": 470,
     "status": "ok",
     "timestamp": 1522832197784,
     "user": {
      "displayName": "Lenz Belzner",
      "photoUrl": "https://lh3.googleusercontent.com/a/default-user=s128",
      "userId": "102800868167498000139"
     },
     "user_tz": -120
    },
    "id": "bw5I9K4bUgL6",
    "outputId": "907a2322-b3db-49aa-a8f3-269e1242edfe"
   },
   "outputs": [
    {
     "data": {
      "text/plain": [
       "<matplotlib.collections.PathCollection at 0x2439d011320>"
      ]
     },
     "execution_count": 8,
     "metadata": {},
     "output_type": "execute_result"
    },
    {
     "data": {
      "image/png": "[encoded data removed]",
      "text/plain": [
       "<Figure size 432x288 with 1 Axes>"
      ]
     },
     "metadata": {
      "needs_background": "light"
     },
     "output_type": "display_data"
    }
   ],
   "source": [
    "plt.scatter([e[0][0] for e in x], [e[0][1] for e in x], alpha=.5)"
   ]
  },
  {
   "cell_type": "markdown",
   "metadata": {
    "colab_type": "text",
    "id": "k930dBsyiB7h"
   },
   "source": [
    "This is what happens if we initialize the recurrent function application for new points $x$."
   ]
  },
  {
   "cell_type": "code",
   "execution_count": 9,
   "metadata": {
    "colab": {
     "autoexec": {
      "startup": false,
      "wait_interval": 0
     },
     "base_uri": "https://localhost:8080/",
     "height": 348,
     "output_extras": [
      {
       "item_id": 1
      }
     ]
    },
    "colab_type": "code",
    "executionInfo": {
     "elapsed": 1170,
     "status": "ok",
     "timestamp": 1522832199086,
     "user": {
      "displayName": "Lenz Belzner",
      "photoUrl": "https://lh3.googleusercontent.com/a/default-user=s128",
      "userId": "102800868167498000139"
     },
     "user_tz": -120
    },
    "id": "UoZHRg0PVEy6",
    "outputId": "0207091e-9895-4892-b572-e5f7176a0e68"
   },
   "outputs": [
    {
     "data": {
      "image/png": "[encoded data removed]",
      "text/plain": [
       "<Figure size 432x288 with 1 Axes>"
      ]
     },
     "metadata": {
      "needs_background": "light"
     },
     "output_type": "display_data"
    }
   ],
   "source": [
    "for _ in range(4):\n",
    "  x = []\n",
    "  x.append(np.random.uniform(size=(1, DIM)))\n",
    "  for _ in range(100):\n",
    "    new_x = model.predict(x[-1])\n",
    "    x.append(new_x)\n",
    "\n",
    "  plt.scatter([e[0][0] for e in x], [e[0][1] for e in x], alpha=.5)"
   ]
  },
  {
   "cell_type": "markdown",
   "metadata": {
    "colab_type": "text",
    "id": "WgSISiDwhYH3"
   },
   "source": [
    "## Untrained Network with Random Weights\n",
    "\n",
    "It's tempting to credit the learning process for this effect, but not training at all yields similar results."
   ]
  },
  {
   "cell_type": "code",
   "execution_count": 10,
   "metadata": {
    "colab": {
     "autoexec": {
      "startup": false,
      "wait_interval": 0
     },
     "base_uri": "https://localhost:8080/",
     "height": 347,
     "output_extras": [
      {
       "item_id": 1
      }
     ]
    },
    "colab_type": "code",
    "executionInfo": {
     "elapsed": 1382,
     "status": "ok",
     "timestamp": 1522832200496,
     "user": {
      "displayName": "Lenz Belzner",
      "photoUrl": "https://lh3.googleusercontent.com/a/default-user=s128",
      "userId": "102800868167498000139"
     },
     "user_tz": -120
    },
    "id": "m8qfSihbgE6f",
    "outputId": "50b40d91-0780-4ce3-90f3-5b7ade328cf9"
   },
   "outputs": [
    {
     "data": {
      "image/png": "[encoded data removed]",
      "text/plain": [
       "<Figure size 432x288 with 1 Axes>"
      ]
     },
     "metadata": {
      "needs_background": "light"
     },
     "output_type": "display_data"
    }
   ],
   "source": [
    "model = make_model()\n",
    "\n",
    "for _ in range(4):\n",
    "  x = []\n",
    "  x.append(np.random.uniform(size=(1, DIM)))\n",
    "  for _ in range(100):\n",
    "    new_x = model.predict(x[-1])\n",
    "    x.append(new_x)\n",
    "\n",
    "  plt.scatter([e[0][0] for e in x], [e[0][1] for e in x], alpha=.5)"
   ]
  },
  {
   "cell_type": "markdown",
   "metadata": {
    "colab_type": "text",
    "id": "UM7ttSvmij8u"
   },
   "source": [
    "More layers, more parameters, same effect."
   ]
  },
  {
   "cell_type": "code",
   "execution_count": 11,
   "metadata": {
    "colab": {
     "autoexec": {
      "startup": false,
      "wait_interval": 0
     },
     "base_uri": "https://localhost:8080/",
     "height": 371,
     "output_extras": [
      {
       "item_id": 1
      }
     ]
    },
    "colab_type": "code",
    "executionInfo": {
     "elapsed": 1289,
     "status": "ok",
     "timestamp": 1522832201928,
     "user": {
      "displayName": "Lenz Belzner",
      "photoUrl": "https://lh3.googleusercontent.com/a/default-user=s128",
      "userId": "102800868167498000139"
     },
     "user_tz": -120
    },
    "id": "SIOil5pugtHJ",
    "outputId": "2769b8a6-3ec4-4d43-ea2d-e4f69e0ee210"
   },
   "outputs": [
    {
     "data": {
      "image/png": "[encoded data removed]",
      "text/plain": [
       "<Figure size 432x288 with 1 Axes>"
      ]
     },
     "metadata": {
      "needs_background": "light"
     },
     "output_type": "display_data"
    }
   ],
   "source": [
    "a = Input(shape=(DIM,))\n",
    "h = Dense(4)(a)\n",
    "b = Dense(DIM)(h)\n",
    "model = Model(inputs=a, outputs=b)\n",
    "model.compile('sgd', 'mse')\n",
    "\n",
    "for _ in range(4):\n",
    "  x = []\n",
    "  x.append(np.random.uniform(size=(1, DIM)))\n",
    "  for _ in range(100):\n",
    "    new_x = model.predict(x[-1])\n",
    "    x.append(new_x)\n",
    "  \n",
    "  plt.scatter([e[0][0] for e in x], [e[0][1] for e in x], alpha=.5)"
   ]
  },
  {
   "cell_type": "markdown",
   "metadata": {
    "colab_type": "text",
    "id": "v5Z3yxTnUTT-"
   },
   "source": [
    "## Multiple Untrained Networks\n",
    "\n",
    "We can build a chain of networks and use the prediction of a network as the input of the next network. We can do this in a circular manner."
   ]
  },
  {
   "cell_type": "code",
   "execution_count": 12,
   "metadata": {
    "colab": {
     "autoexec": {
      "startup": false,
      "wait_interval": 0
     },
     "base_uri": "https://localhost:8080/",
     "height": 677,
     "output_extras": [
      {
       "item_id": 1
      },
      {
       "item_id": 2
      }
     ]
    },
    "colab_type": "code",
    "executionInfo": {
     "elapsed": 1566,
     "status": "ok",
     "timestamp": 1522832203577,
     "user": {
      "displayName": "Lenz Belzner",
      "photoUrl": "https://lh3.googleusercontent.com/a/default-user=s128",
      "userId": "102800868167498000139"
     },
     "user_tz": -120
    },
    "id": "RBq9UbI3UhaV",
    "outputId": "5c88e9ba-804a-4eb5-ed44-964bc67d8542"
   },
   "outputs": [
    {
     "data": {
      "image/png": "[encoded data removed]",
      "text/plain": [
       "<Figure size 432x288 with 1 Axes>"
      ]
     },
     "metadata": {
      "needs_background": "light"
     },
     "output_type": "display_data"
    },
    {
     "data": {
      "image/png": "[encoded data removed]",
      "text/plain": [
       "<Figure size 432x288 with 1 Axes>"
      ]
     },
     "metadata": {
      "needs_background": "light"
     },
     "output_type": "display_data"
    }
   ],
   "source": [
    "n_models = 4\n",
    "models = [make_model() for _ in range(n_models)]\n",
    "\n",
    "for _ in range(2):\n",
    "  x = []\n",
    "  x.append(np.random.uniform(size=(1, DIM)))\n",
    "  for i in range(100):\n",
    "    new_x = models[i % n_models].predict(x[-1])\n",
    "    x.append(new_x)\n",
    "\n",
    "  plt.figure()\n",
    "  plt.plot([e[0][0] for e in x])\n",
    "  plt.plot([e[0][1] for e in x])\n",
    "    \n",
    "  # plt.scatter([e[0][0] for e in x], [e[0][1] for e in x], alpha=.5)"
   ]
  },
  {
   "cell_type": "markdown",
   "metadata": {
    "colab_type": "text",
    "id": "TFS3YznBWZRl"
   },
   "source": [
    "## Adding Offset\n",
    "\n",
    "We can add an offset to each prediction."
   ]
  },
  {
   "cell_type": "code",
   "execution_count": 14,
   "metadata": {
    "colab": {
     "autoexec": {
      "startup": false,
      "wait_interval": 0
     },
     "base_uri": "https://localhost:8080/",
     "height": 677,
     "output_extras": [
      {
       "item_id": 1
      },
      {
       "item_id": 2
      }
     ]
    },
    "colab_type": "code",
    "executionInfo": {
     "elapsed": 1474,
     "status": "ok",
     "timestamp": 1522832205162,
     "user": {
      "displayName": "Lenz Belzner",
      "photoUrl": "https://lh3.googleusercontent.com/a/default-user=s128",
      "userId": "102800868167498000139"
     },
     "user_tz": -120
    },
    "id": "2H6bn029WmRf",
    "outputId": "cbc65f97-7f13-4869-b1c8-b6aa4f8606a3"
   },
   "outputs": [
    {
     "data": {
      "image/png": "[encoded data removed]",
      "text/plain": [
       "<Figure size 432x288 with 1 Axes>"
      ]
     },
     "metadata": {
      "needs_background": "light"
     },
     "output_type": "display_data"
    },
    {
     "data": {
      "image/png": "[encoded data removed]",
      "text/plain": [
       "<Figure size 432x288 with 1 Axes>"
      ]
     },
     "metadata": {
      "needs_background": "light"
     },
     "output_type": "display_data"
    }
   ],
   "source": [
    "n_models = 4\n",
    "models = [make_model() for _ in range(n_models)]\n",
    "\n",
    "offset = .1\n",
    "\n",
    "for _ in range(2):\n",
    "  x = []\n",
    "  x.append(np.random.uniform(size=(1, DIM)))\n",
    "  for i in range(100):\n",
    "    new_x = models[i % n_models].predict(x[-1])\n",
    "    new_x += offset\n",
    "    x.append(new_x)\n",
    "\n",
    "  plt.figure()\n",
    "  plt.plot([e[0][0] for e in x])\n",
    "  plt.plot([e[0][1] for e in x])"
   ]
  },
  {
   "cell_type": "markdown",
   "metadata": {
    "colab_type": "text",
    "id": "tXjCfO6AKyRj"
   },
   "source": [
    "## Next\n",
    "\n",
    "- Is a trained net also an attractor?\n",
    "- How do trained or random density nets behave?"
   ]
  },
  {
   "cell_type": "code",
   "execution_count": null,
   "metadata": {
    "colab": {
     "autoexec": {
      "startup": false,
      "wait_interval": 0
     }
    },
    "colab_type": "code",
    "id": "w4SRxuKdK4Gg"
   },
   "outputs": [],
   "source": []
  }
 ],
 "metadata": {
  "accelerator": "GPU",
  "colab": {
   "collapsed_sections": [],
   "default_view": {},
   "name": "fixpoint.ipynb",
   "provenance": [],
   "toc_visible": true,
   "version": "0.3.2",
   "views": {}
  },
  "kernelspec": {
   "display_name": "Python 3",
   "language": "python",
   "name": "python3"
  },
  "language_info": {
   "codemirror_mode": {
    "name": "ipython",
    "version": 3
   },
   "file_extension": ".py",
   "mimetype": "text/x-python",
   "name": "python",
   "nbconvert_exporter": "python",
   "pygments_lexer": "ipython3",
   "version": "3.6.7"
  }
 },
 "nbformat": 4,
 "nbformat_minor": 1
}
